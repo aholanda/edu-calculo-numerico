{
  "metadata": {
    "language_info": {
      "codemirror_mode": {
        "name": "python",
        "version": 3
      },
      "file_extension": ".py",
      "mimetype": "text/x-python",
      "name": "python",
      "nbconvert_exporter": "python",
      "pygments_lexer": "ipython3",
      "version": "3.8"
    },
    "kernelspec": {
      "name": "python",
      "display_name": "Pyolite",
      "language": "python"
    }
  },
  "nbformat_minor": 4,
  "nbformat": 4,
  "cells": [
    {
      "cell_type": "markdown",
      "source": "# Localização de zeros de funções reais",
      "metadata": {}
    },
    {
      "cell_type": "markdown",
      "source": "# Método de Newton-Raphson\n\nO método de Newton-Raphson toma a raiz da tangente do ponto médio de $[a,b]$, deslocando este ponto até coincidir com a raiz de $f(x)$. Como a tangente de $f(x)$ pode ser descrita por sua derivada, obtemos o deslocamento $\\delta$ em $x$ a cada iteração usando a série de Taylor\n\n$$f(x+\\epsilon) = f(x) + f'(x)\\delta + \\frac{f''(x)}{2}\\delta^2 + \\ldots,$$\n\nque para valores suficientemente pequenos de $\\delta$ e funções bem comportadas, os fatores não lineares podem ser desprezados e para $f(x+\\delta)=0$ implica em\n\n$$\\delta = -\\frac{f(x)}{f'(x)}.$$\n\nA função `newton()` calcula a raiz, se existir, entre os pontos `a` e `b` usando a função `fd`, que retorna $f(x)$ e $f'(x)$. Os parâmetros opcionais são: a acurácia `eps` e o número máximo de iterações `maxit`.",
      "metadata": {}
    },
    {
      "cell_type": "code",
      "source": "import sys\ndef newton(fd, a, b, eps=0.0001, maxit=40):\n    r = (a+b)/2\n    for i in range(maxit):\n        f, df = fd(r)\n        dx = f/df\n        r -= dx\n        if (a-r)*(r-b) < 0.0:\n            sys.exit('fatal: a busca caiu fora dos limites ({},{})'.\n                    format(a, b))\n        if abs(dx) < eps:\n            return r\n    sys.exit('Número máximo de iterações excedido: >{}'.format(maxit))\n    return r # nunca chega aqui\n\ndef fd(x):\n    y = x**3 -2*x -0.5\n    dy = 3*x**2 -2\n    return y, dy\n\na=0.0\nb=4.0\nr = newton(fd, a, b) # 1.5256871208655\nprint('Raiz de f(x)={}'.format(r))",
      "metadata": {
        "trusted": true
      },
      "execution_count": 15,
      "outputs": [
        {
          "name": "stdout",
          "text": "Raiz de f(x)=1.5256871208655187\n",
          "output_type": "stream"
        }
      ]
    },
    {
      "cell_type": "code",
      "source": "",
      "metadata": {},
      "execution_count": null,
      "outputs": []
    }
  ]
}