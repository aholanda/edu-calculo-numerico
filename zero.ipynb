{
  "metadata": {
    "language_info": {
      "codemirror_mode": {
        "name": "python",
        "version": 3
      },
      "file_extension": ".py",
      "mimetype": "text/x-python",
      "name": "python",
      "nbconvert_exporter": "python",
      "pygments_lexer": "ipython3",
      "version": "3.8"
    },
    "kernelspec": {
      "name": "python",
      "display_name": "Pyolite",
      "language": "python"
    }
  },
  "nbformat_minor": 4,
  "nbformat": 4,
  "cells": [
    {
      "cell_type": "markdown",
      "source": "# Localização de zero de funções reais",
      "metadata": {}
    },
    {
      "cell_type": "markdown",
      "source": "# Método de Newton-Raphson\n\nO método de Newton-Raphson toma a raiz da tangente do ponto médio de $[a,b]$, deslocando este ponto até coincidir com a raiz de $f(x)$. Como a tangente de $f(x)$ pode ser descrita por sua derivada, obtemos o deslocamento $\\delta$ em $x$ a cada iteração usando a série de Taylor\n\n$$f(x+\\epsilon) = f(x) + f'(x)\\delta + \\frac{f''(x)}{2}\\delta^2 + \\ldots,$$\n\nque para valores suficientemente pequenos de $\\delta$ e funções bem comportadas, os fatores não lineares podem ser desprezados e para $f(x+\\delta)=0$ implica em\n\n$$\\delta = -\\frac{f(x)}{f'(x)}.$$\n\nA função `newton()` calcula a raiz, se existir, entre os pontos `a` e `b` usando a função `fd`, que retorna $f(x)$ e $f'(x)$. Os parâmetros opcionais são: a acurácia `eps` e o número máximo de iterações `maxit`.",
      "metadata": {}
    },
    {
      "cell_type": "code",
      "source": "import sys\ndef newton(fd, a, b, eps=0.0001, maxit=40):\n    r = (a+b)/2\n    for i in range(maxit):\n        f, df = fd(r)\n        dx = f/df\n        r -= dx\n        if (a-r)*(r-b) < 0.0:\n            sys.exit('fatal: a busca caiu fora dos limites ({},{})'.\n                    format(a, b))\n        if abs(dx) < eps:\n            return r\n    sys.exit('Número máximo de iterações excedido: >{}'.format(maxit))\n    return r # nunca chega aqui\n\ndef fd(x):\n    y = x**3 -2*x -0.5\n    dy = 3*x**2 -2\n    return y, dy\n\na=0.0\nb=4.0\nr = newton(fd, a, b) # 1.5256871208655\nprint('Raiz de f(x)={}'.format(r))",
      "metadata": {
        "trusted": true
      },
      "execution_count": 15,
      "outputs": [
        {
          "name": "stdout",
          "text": "Raiz de f(x)=1.5256871208655187\n",
          "output_type": "stream"
        }
      ]
    },
    {
      "cell_type": "markdown",
      "source": "# Método da secante\n\nComo nem sempre é possível obter a derivada da função, a secante pode ser derivada do método de Newton-Raphson\n\n$$\\delta = -\\frac{f(x)}{f'(x)}\\implies x_n = x_{n-1}-\\frac{f(x_{n-1})}{f'(x_{n-1})}\\qquad\\qquad(1)$$\n\ne usando uma aproximação de diferenças finitas que tendem a zero\n\n$$f'(x_{n-1}) \\approx \\frac{f(x_{n-1})-f(x_{n-2})}{x_{n-1}-x_{n-2}},\\qquad\\qquad(2)$$\n\nsubstituímos $(2)$ em $(1)$, eliminando a derivada de $f(x)$ e obtendo\n\n$$\\delta \\approx -\\frac{(x_{n-1}-x_{n-2})f(x_{n-1})}{f(x_{n-1})-f(x_{n-2})}$$\n\nA função `secante()` calcula a raiz, se existir, entre os pontos `a` $(x_{n-2})$ e `b` $(x_{n-1})$ usando o método da **secante**. Os parâmetros opcionais são: a acurácia `eps` e o número máximo de iterações `maxit`.",
      "metadata": {}
    },
    {
      "cell_type": "code",
      "source": "import sys\ndef secante(f, a, b, eps=0.0001, maxit=40):\n    fa, fb, r = f(a), f(b), -1000\n    # Seleciona o limite inferior como valor inicial para a raiz r.\n    if abs(fa) < abs(fb):\n        r = a\n        a = b\n        fa, fb = fb, fa\n    else:\n        r = b\n    for i in range(maxit):\n        # Secante\n        dx = (a-r)*fb/(fb-fa)\n        a, fa = r, fb\n        r += dx\n        fb = f(r)\n        if abs(dx) < eps or f == 0.0:\n            return r\n    sys.exit('Número máximo de iterações excedido: >{}'.format(maxit))\n    return r # nunca chega aqui\n\ndef fd(x):\n    y = x**3 -2*x -0.5\n    return y\n\na=1.0\nb=4.0\nr = secante(fd, a, b) # 1.5256871208655\nprint('Raiz de f(x)={}'.format(r))",
      "metadata": {
        "trusted": true
      },
      "execution_count": 40,
      "outputs": [
        {
          "name": "stdout",
          "text": "55.5 -1.5\n1.0 4.0 -1.5 -1.5 0.07894736842105263\n-1.5 -1.401862516401808\n1.0789473684210527 4.0 -1.401862516401808 -1.401862516401808 1.127737868347751\n-1.401862516401808 5.831994432902961\n2.206685236768804 4.0 5.831994432902961 5.831994432902961 -0.9091914612176614\n5.831994432902961 -0.9106696282721378\n1.2974937755511426 4.0 -0.9106696282721378 -0.9106696282721378 0.12279612961630952\n-0.9106696282721378 -0.4755377579398612\n1.4202899051674522 4.0 -0.4755377579398612 -0.4755377579398612 0.13419884899913517\n-0.4755377579398612 0.14734397021597756\n1.5544887541665875 4.0 0.14734397021597756 0.14734397021597756 -0.03174501725791505\n0.14734397021597756 -0.014627735800308184\n1.5227437369086725 4.0 -0.014627735800308184 -0.014627735800308184 0.002866906429807653\n-0.014627735800308184 -0.0003810732569142772\n1.5256106433384802 4.0 -0.0003810732569142772 -0.0003810732569142772 7.668472297618125e-05\nRaiz de f(x)=1.5256873280614565\n",
          "output_type": "stream"
        }
      ]
    }
  ]
}