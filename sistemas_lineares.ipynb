{
  "nbformat": 4,
  "nbformat_minor": 0,
  "metadata": {
    "colab": {
      "name": "sistemas_lineares.ipynb",
      "provenance": [],
      "collapsed_sections": [],
      "authorship_tag": "ABX9TyM733vcGJ6TLeXmW+ci8dd+",
      "include_colab_link": true
    },
    "kernelspec": {
      "name": "python3",
      "display_name": "Python 3"
    },
    "language_info": {
      "name": "python"
    }
  },
  "cells": [
    {
      "cell_type": "markdown",
      "metadata": {
        "id": "view-in-github",
        "colab_type": "text"
      },
      "source": [
        "<a href=\"https://colab.research.google.com/github/aholanda/edu-calculo-numerico/blob/main/sistemas_lineares.ipynb\" target=\"_parent\"><img src=\"https://colab.research.google.com/assets/colab-badge.svg\" alt=\"Open In Colab\"/></a>"
      ]
    },
    {
      "cell_type": "markdown",
      "source": [
        "# Equações Lineares\n",
        "\n",
        "## Eliminaçao Gaussiana\n",
        "\n",
        "Consideramos o sistema de equações a seguir com $3$ variáveis:\n",
        "\n",
        "$$\\displaylines{\n",
        "  3x-4y+z=1\\cr\n",
        "  2x+y+2z=3\\cr\n",
        "  x+2y-z=5\n",
        "  }$$\n",
        "Primeiro, dividimos a primeira equação por $3$\n",
        "\n",
        "  $$\\eqalignno{x-\\frac{4}{3}y+\\frac{1}{3}z=\\frac{1}{3}&(1)}$$\n",
        "\n",
        "então subtraímos 2 vezes a Eq. (1) da segunda equação e 1 vez da terceira equação para eliminar o $x$ destas equações, obtendo\n",
        "\n",
        "$$\\eqalign{\n",
        "    x+\\frac{4}{3}y+\\frac{1}{3}z=\\frac{1}{3}\\cr\n",
        "    \\frac{11}{3}y+\\frac{4}{3}z=\\frac{7}{3}\\cr\n",
        "    \\frac{10}{3}y-\\frac{4}{3}z=\\frac{14}{3}\\cr\n",
        "}$$\n",
        "\n",
        "em seguida, dividimos a segunda equação por $\\frac{11}{3}$\n",
        "\n",
        "$$\\eqalign{y+\\frac{4}{11}z=\\frac{7}{11}&(2)}$$\n",
        "\n",
        "e multiplicamos a Eq. (2) por $\\frac{10}{3}$ para subtrairmos da terceira equação obtendo\n",
        "\n",
        "$$-\\frac{84}{33}z=\\frac{84}{33}.$$\n",
        "\n",
        "Então\n",
        "\n",
        "$$z=-1$$\n",
        "\n",
        "e substituímos $z$ na Eq. (2) obtendo\n",
        "\n",
        "$$y=\\frac{11}{4}-\\frac{4}{11}z=1$$\n",
        "\n",
        "e substituímos $y$ e $z$ na Eq. (1) obtendo\n",
        "\n",
        "$$x=\\frac{1}{3}+\\frac{4}{3}y-\\frac{1}{3}z=\\frac{1}{2}\\frac{4}{3}+\\frac{1}{3}=2.$$\n",
        "\n",
        "Para generalizar este processo, consideramos $n$ equações de $n$ variáveis\n",
        "\n",
        "$$\\eqalign{\n",
        "  a_{1,1}x_1+a_{1,2}x_2+a_{1,3}x_3+\\ldots+a_{1,n}x_n-b_1\\cr\n",
        "  a_{2,1}x_1+a_{2,2}x_2+a_{2,3}x_3+\\ldots+a_{2,n}x_n-b_2\\cr\n",
        "  \\vdots\\cr\n",
        "  a_{n,1}x_1+a_{n,2}x_2+a_{n,3}x_3+\\ldots+a_{n,n}x_n-b_n\n",
        "}$$\n",
        "\n",
        "de forma a obter um algoritmo para a eliminação de Gauss\n",
        "\n",
        "```\n",
        "dividir equação 1 por a[1,1]\n",
        "para i=2:n:\n",
        "    subtrair a[i,i-1] vezes a equação i-1 da equação i\n",
        "\n",
        "para i=n,1:\n",
        "  calcular x[i,i] na equação i\n",
        "```\n",
        "\n",
        "Na primeira passada o custo é $n-1$ e na segunda $n$, \n",
        "portanto o desempenho do algoritmo é $O(n)$.\n",
        "\n",
        "### Exercícios\n",
        "\n",
        "1. Resolva usando a eliminação de Gauss.\n",
        "\n",
        "a. \n",
        "$$\\eqalign{\n",
        "x+y=15\\cr\n",
        "4x+2y=48\n",
        "}$$\n",
        "\n",
        "b.\n",
        "$$\\eqalign{\n",
        "x+y+z=2\\cr\n",
        "4x+4y+2z=2\\cr\n",
        "2x+y-z=0\n",
        "}$$\n",
        "\n",
        "c.\n",
        "$$\\eqalign{\n",
        "2x_1 & -1x_2 & +3x_3 & +5x_4 &=& -7\\cr\n",
        "2x_1 & +1x_2 & +4x_3 & -2x_4 &=& -18\\cr\n",
        "3x_1 &       & +3x_3 & -4x_4 &=& -25\\cr\n",
        "     & -2x_2 &       & +6x_4 &= &-24\n",
        "}$$\n",
        "\n"
      ],
      "metadata": {
        "id": "-r7QcOKmwuDr"
      }
    },
    {
      "cell_type": "markdown",
      "source": [
        "### Biblioteca `numpy.linalg`\n",
        "\n",
        "Podemos usar a função `solve` da biblioteca (pacote) `numpy.linalg` para resover o sistema de equações lineares da seguinte maneira:"
      ],
      "metadata": {
        "id": "ie7hAeQ7CbXO"
      }
    },
    {
      "cell_type": "code",
      "source": [
        "import numpy as np\n",
        "\n",
        "a = np.array([[3, -4, 1], [2, 1, 2], [1, 2, -1]])\n",
        "b = np.array([1, 3, 5])\n",
        "x = np.linalg.solve(a, b)\n",
        "print(x)"
      ],
      "metadata": {
        "colab": {
          "base_uri": "https://localhost:8080/"
        },
        "id": "d-ViJGjKDQ_6",
        "outputId": "c51300d5-08db-4aee-f47e-aeed97a896f5"
      },
      "execution_count": null,
      "outputs": [
        {
          "output_type": "stream",
          "name": "stdout",
          "text": [
            "[ 2.  1. -1.]\n"
          ]
        }
      ]
    },
    {
      "cell_type": "markdown",
      "source": [
        "## Fatoração LU\n",
        "\n",
        "A fatoração (decomposição) LU de uma matrix $N\\times N$ chamada $A$ gera uma matriz triangular inferior $L$ e uma matriz triangular superior $U$\n",
        "\n",
        "$$\\eqalign{\n",
        "    Ax=b& ⇒\\cr\n",
        "   (LU)x = b&\\Rightarrow\\cr\n",
        "   L(Ux) = b&\\Rightarrow \\cr\n",
        "   Ly = b \\qquad& e\\qquad Ux=y\n",
        "}$$\n",
        "\n",
        "Exemplo [copiado do [livro da UFRGS](https://www.ufrgs.br/reamat/CalculoNumerico/livro-py/sdsl-fatoracao_lu.html)]:\n",
        "\n",
        "\\begin{align}\n",
        "\\begin{pmatrix}\n",
        " 1 & 1 & 1 \\\\\n",
        " 2 & 1 & -1  \\\\\n",
        " 2 & -1 & 1\n",
        " \\end{pmatrix}\n",
        " \\begin{pmatrix} \n",
        "  x_1\\\\ x_2\\\\ x_3\n",
        " \\end{pmatrix}\n",
        " = \n",
        " \\begin{pmatrix} \n",
        "  -2\\\\ 1\\\\ 3\n",
        " \\end{pmatrix}\n",
        "\\end{align} \n",
        "\n",
        "Usando a Eq. (1) para decompor a matrix $A$, obtemos $LU$\n",
        "\n",
        "\\begin{align}\n",
        "\\begin{bmatrix}\n",
        " 1 & 1 & 1 \\\\\n",
        " 2 & 1 & -1  \\\\\n",
        " 2 & -1 & 1\n",
        " \\end{bmatrix}=&\n",
        " \\begin{bmatrix} \n",
        " 1 & 0 & 0 \\\\\n",
        " 0 & 1 & 0 \\\\\n",
        " 0 & 0 & 1\n",
        " \\end{bmatrix}\n",
        " \\begin{bmatrix} \n",
        "  1 & 1 & 1 \\\\\n",
        "  2 & 1& -1 \\\\ \n",
        "  2 & -1 & 1\n",
        " \\end{bmatrix}\\\\\n",
        " =&\\begin{bmatrix} \n",
        " 1 & 0 & 0 \\\\\n",
        " 2 & 1 & 0 \\\\\n",
        " 2 & 0 & 1\n",
        " \\end{bmatrix}\n",
        " \\begin{bmatrix} \n",
        "  1 & 1 & 1 \\\\\n",
        "  0 & -1& -3 \\\\ \n",
        "  0 & -3 & -1\n",
        " \\end{bmatrix}\\\\\n",
        " =&\\begin{bmatrix} \n",
        " 1 & 0 & 0 \\\\\n",
        " 2 & 1 & 0 \\\\\n",
        " 2 & 3 & 1\n",
        " \\end{bmatrix}\n",
        " \\begin{bmatrix} \n",
        "  1 & 1 & 1 \\\\\n",
        "  0 & -1& -3 \\\\ \n",
        "  0 & 0 & 8\n",
        " \\end{bmatrix}\n",
        "\\end{align} \n",
        "\n",
        "Resolvemos $Ly=b$\n",
        "$$\\eqalign{\n",
        "  y_1  &       &      &=-2\\cr\n",
        "  2y_1 & +y_2  &      &=1\\cr\n",
        "  2y_1 & +3y_2 & +y_3 &=3\n",
        "  }$$\n",
        "\n",
        "onde obtemos $y_=-2,y_2=-5, y_3=-8$; e então $Ux=y$\n",
        "\n",
        "$$\\eqalign{\n",
        "   x_1 & +x_2 & +x_3    &=-2\\cr\n",
        "       & -x_2 & -3x_3   &=5\\cr\n",
        "       &      & +8x_3    &=-8\n",
        "  }$$\n",
        "\n",
        "obtendo a solução $x_3=-1$, $x_2=-2$, $x_1=1$.\n"
      ],
      "metadata": {
        "id": "u2IOl1m6CSYk"
      }
    },
    {
      "cell_type": "code",
      "source": [
        "import numpy as np\n",
        "\n",
        "def LU(A):  \n",
        "    U = np.copy(A)  \n",
        "    n = np.shape(U)[0]  \n",
        "    L = np.eye(n)  \n",
        "    for j in np.arange(n-1):  \n",
        "        for i in np.arange(j+1,n):  \n",
        "            L[i,j] = U[i,j]/U[j,j]  \n",
        "            for k in np.arange(j+1,n):  \n",
        "                U[i,k] = U[i,k] - L[i,j]*U[j,k]  \n",
        "            U[i,j] = 0  \n",
        "    return L, U\n",
        "A = [[1, 1, 1], \n",
        "     [2, 1, -1], \n",
        "     [2, -1, 1]]\n",
        "L, U = LU(A)\n",
        "print('L=\\n', L)\n",
        "print('U=\\n', U)"
      ],
      "metadata": {
        "colab": {
          "base_uri": "https://localhost:8080/"
        },
        "id": "LvS_v5TfrdN_",
        "outputId": "07cd515c-8b37-4a93-f631-70d451c87392"
      },
      "execution_count": 10,
      "outputs": [
        {
          "output_type": "stream",
          "name": "stdout",
          "text": [
            "L=\n",
            " [[1. 0. 0.]\n",
            " [2. 1. 0.]\n",
            " [2. 3. 1.]]\n",
            "U=\n",
            " [[ 1  1  1]\n",
            " [ 0 -1 -3]\n",
            " [ 0  0  8]]\n"
          ]
        }
      ]
    },
    {
      "cell_type": "markdown",
      "source": [
        "# Biblioteca `scipy.linalg`\n",
        "\n",
        "Mostramos a seguir o uso da função `lu` da biblioteca (pacote) `scipy.linalg` para a fatoração $LU$:"
      ],
      "metadata": {
        "id": "1iFaQ9xyPkok"
      }
    },
    {
      "cell_type": "code",
      "source": [
        "import numpy as np\n",
        "import scipy\n",
        "import numpy.linalg\n",
        "\n",
        "A = np.array([[3, -4, 1], [2, 1, 2], [1, 2, -1]])\n",
        "b = np.array([1, 3, 5])\n",
        "P, L, U = scipy.linalg.lu(A)\n",
        "print('A =\\n', A)\n",
        "print('L =\\n', L)\n",
        "print('U =\\n', U)\n",
        "\n",
        "x = numpy.linalg.solve(A, b)\n",
        "print(x)"
      ],
      "metadata": {
        "colab": {
          "base_uri": "https://localhost:8080/"
        },
        "id": "NtP3UtWPNpo-",
        "outputId": "d93e76d4-389c-48ff-cbbc-8ca2e079665c"
      },
      "execution_count": null,
      "outputs": [
        {
          "output_type": "stream",
          "name": "stdout",
          "text": [
            "A =\n",
            " [[ 3 -4  1]\n",
            " [ 2  1  2]\n",
            " [ 1  2 -1]]\n",
            "L =\n",
            " [[1.         0.         0.        ]\n",
            " [0.66666667 1.         0.        ]\n",
            " [0.33333333 0.90909091 1.        ]]\n",
            "U =\n",
            " [[ 3.         -4.          1.        ]\n",
            " [ 0.          3.66666667  1.33333333]\n",
            " [ 0.          0.         -2.54545455]]\n",
            "[ 2.  1. -1.]\n"
          ]
        }
      ]
    },
    {
      "cell_type": "markdown",
      "source": [
        "## Referência\n",
        "\n",
        "- Numerical Methods for Scientists and Engineers. Richard Hamming. Dover Publications; 2nd revised edition, 1987."
      ],
      "metadata": {
        "id": "FX_GwumwCL7y"
      }
    }
  ]
}